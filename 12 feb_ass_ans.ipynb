{
 "cells": [
  {
   "cell_type": "markdown",
   "id": "a417645f",
   "metadata": {},
   "source": [
    "1. What is an exception in python? Write the diffrence betneen Exceptions and syntax error '\n",
    "2. what happens when an exception is not handelled? wxpalin witthan example.\n",
    "3. Which Pythoon statement are used to catch and handel exception? Expalin with an example.\n",
    "4. expalin with an exapmle \n",
    "    a. try and else \n",
    "    b. finnaly \n",
    "    c. raise \n",
    "5. what are custome exaption in python? why do we need to custome exaptiona? expalin with an exple.\n",
    "6. Creat an custom exption class. use the sale to handel thhe exception "
   ]
  },
  {
   "cell_type": "code",
   "execution_count": 1,
   "id": "00b75403",
   "metadata": {},
   "outputs": [
    {
     "data": {
      "text/plain": [
       "' \\nException is type of logical error when the program is not abble to perform specific task that assigned to it dispiite of there is no syntax errors \\nExceptiion is logical error which occure after the syntax varification \\nsyntax error is the  type of error that happens when wrieen code is not consistant with the language standerds.\\n\\n'"
      ]
     },
     "execution_count": 1,
     "metadata": {},
     "output_type": "execute_result"
    }
   ],
   "source": [
    "# 1. \n",
    "''' \n",
    "Exception is type of logical error when the program is not abble to perform specific task that assigned to it dispiite of there is no syntax errors \n",
    "Exceptiion is logical error which occure after the syntax varification \n",
    "syntax error is the  type of error that happens when wrieen code is not consistant with the language standerds.\n",
    "\n",
    "'''"
   ]
  },
  {
   "cell_type": "code",
   "execution_count": 2,
   "id": "14de2bf2",
   "metadata": {},
   "outputs": [
    {
     "ename": "FileNotFoundError",
     "evalue": "[Errno 2] No such file or directory: 'myeext__.txt'",
     "output_type": "error",
     "traceback": [
      "\u001b[1;31m---------------------------------------------------------------------------\u001b[0m",
      "\u001b[1;31mFileNotFoundError\u001b[0m                         Traceback (most recent call last)",
      "\u001b[1;32m~\\AppData\\Local\\Temp\\ipykernel_12812\\989977576.py\u001b[0m in \u001b[0;36m<module>\u001b[1;34m\u001b[0m\n\u001b[0;32m      6\u001b[0m '''\n\u001b[0;32m      7\u001b[0m \u001b[1;33m\u001b[0m\u001b[0m\n\u001b[1;32m----> 8\u001b[1;33m \u001b[0mf\u001b[0m \u001b[1;33m=\u001b[0m \u001b[0mopen\u001b[0m \u001b[1;33m(\u001b[0m\u001b[1;34m\"myeext__.txt\"\u001b[0m\u001b[1;33m,\u001b[0m \u001b[1;34m\"r\"\u001b[0m\u001b[1;33m)\u001b[0m\u001b[1;33m\u001b[0m\u001b[1;33m\u001b[0m\u001b[0m\n\u001b[0m\u001b[0;32m      9\u001b[0m \u001b[0mf\u001b[0m\u001b[1;33m.\u001b[0m\u001b[0mread\u001b[0m\u001b[1;33m(\u001b[0m\u001b[1;33m)\u001b[0m\u001b[1;33m\u001b[0m\u001b[1;33m\u001b[0m\u001b[0m\n",
      "\u001b[1;31mFileNotFoundError\u001b[0m: [Errno 2] No such file or directory: 'myeext__.txt'"
     ]
    }
   ],
   "source": [
    "# 2\n",
    "'''\n",
    "When the exception is not handelled then the then the required output will not be deliver, in some case the progeam may fail to execute.\n",
    "eg if the file name given to the prrogram fro opning in read mode is not created in directory then all the function of the will fail to execute and program will exit \n",
    "follow on the code \n",
    "'''\n",
    "\n",
    "f = open (\"myeext__.txt\", \"r\")\n",
    "f.read()\n",
    "a = 4+5"
   ]
  },
  {
   "cell_type": "code",
   "execution_count": 4,
   "id": "548f12b3",
   "metadata": {},
   "outputs": [
    {
     "name": "stdout",
     "output_type": "stream",
     "text": [
      " we have found the [Errno 2] No such file or directory: 'myeext__.txt'and we are starting to execute the finally block \n",
      "ill kkeep the code further running \n"
     ]
    }
   ],
   "source": [
    "# if the exception is handeled \n",
    "try:\n",
    "    f= open(\"myeext__.txt\", \"r\")\n",
    "except FileNotFoundError as e:\n",
    "    print(\" we have found the \" + str(e) + \"and we are starting to execute the finally block \")\n",
    "finally:\n",
    "    print(\"ill kkeep the code further running \")"
   ]
  },
  {
   "cell_type": "code",
   "execution_count": null,
   "id": "ff8f4631",
   "metadata": {},
   "outputs": [],
   "source": [
    "# 3\n",
    "'''\n",
    "In the python try exept and finally are used to handel the excception \n",
    "try => try the block of code. if code get sucessfully execute then call thee else or fimally block and if the code is not sucesssfuly executed then call the except block to handel the exception \n",
    "\n",
    "\n",
    "'''\n",
    "try:\n",
    "    f= open(\"myeext__.txt\", \"r\")\n",
    "except FileNotFoundError as e:\n",
    "    print(\" we have found the \" + str(e) + \"and we are starting to execute the finally block \")\n",
    "finally:\n",
    "    print(\"il keep the code further running \")"
   ]
  },
  {
   "cell_type": "code",
   "execution_count": 4,
   "id": "382efda9",
   "metadata": {},
   "outputs": [
    {
     "name": "stdout",
     "output_type": "stream",
     "text": [
      "we have executed the the try block and the answer is 11\n",
      "we are in the else block\n"
     ]
    }
   ],
   "source": [
    "# 4\n",
    "''''\n",
    "a. try and else : in the process of excception handling thise \n",
    "are used to try the specific block of code which have chance of an\n",
    "error when the code get executed added in the try block then else block is called  for further action \n",
    "'''\n",
    "try:\n",
    "    a = 5+6\n",
    "    print(f\"we have executed the the try block and the answer is {a}\")\n",
    "except Exception as e:\n",
    "    pass\n",
    "else:\n",
    "    print(\"we are in the else block\")"
   ]
  },
  {
   "cell_type": "code",
   "execution_count": 1,
   "id": "a7826344",
   "metadata": {},
   "outputs": [
    {
     "name": "stdout",
     "output_type": "stream",
     "text": [
      "-23\n"
     ]
    },
    {
     "ename": "NameError",
     "evalue": "name 'Excepiton' is not defined",
     "output_type": "error",
     "traceback": [
      "\u001b[1;31m---------------------------------------------------------------------------\u001b[0m",
      "\u001b[1;31mNameError\u001b[0m                                 Traceback (most recent call last)",
      "\u001b[1;32m~\\AppData\\Local\\Temp\\ipykernel_15860\\193554540.py\u001b[0m in \u001b[0;36m<module>\u001b[1;34m\u001b[0m\n\u001b[0;32m      1\u001b[0m \u001b[0ma\u001b[0m \u001b[1;33m=\u001b[0m \u001b[0mint\u001b[0m\u001b[1;33m(\u001b[0m\u001b[0minput\u001b[0m\u001b[1;33m(\u001b[0m\u001b[1;33m)\u001b[0m\u001b[1;33m)\u001b[0m\u001b[1;33m\u001b[0m\u001b[1;33m\u001b[0m\u001b[0m\n\u001b[0;32m      2\u001b[0m \u001b[1;32mif\u001b[0m \u001b[0ma\u001b[0m\u001b[1;33m<\u001b[0m\u001b[1;36m0\u001b[0m\u001b[1;33m:\u001b[0m\u001b[1;33m\u001b[0m\u001b[1;33m\u001b[0m\u001b[0m\n\u001b[1;32m----> 3\u001b[1;33m     \u001b[1;32mraise\u001b[0m \u001b[0mExcepiton\u001b[0m \u001b[1;33m(\u001b[0m\u001b[1;34m\"a is a negative no please enter a  positive no \"\u001b[0m\u001b[1;33m)\u001b[0m\u001b[1;33m\u001b[0m\u001b[1;33m\u001b[0m\u001b[0m\n\u001b[0m",
      "\u001b[1;31mNameError\u001b[0m: name 'Excepiton' is not defined"
     ]
    }
   ],
   "source": [
    "a = int(input())\n",
    "if a<0:\n",
    "    raise Excepiton (\"a is a negative no please enter a  positive no \")"
   ]
  },
  {
   "cell_type": "code",
   "execution_count": 5,
   "id": "efe1de1c",
   "metadata": {},
   "outputs": [
    {
     "name": "stdout",
     "output_type": "stream",
     "text": [
      "3\n"
     ]
    }
   ],
   "source": [
    "a = int(input())\n",
    "if a<0:\n",
    "    raise Exception (\"a is a negative no please enter a  positive no \")\n",
    "    ''' we have called the supper calss to raise exception. we can also defint the same into other calss and inherit the exception class and writte the logc init '''"
   ]
  },
  {
   "cell_type": "code",
   "execution_count": 6,
   "id": "ccfca650",
   "metadata": {},
   "outputs": [
    {
     "name": "stdout",
     "output_type": "stream",
     "text": [
      "please enter your name -2\n"
     ]
    },
    {
     "ename": "Exception",
     "evalue": " this is a negative  no please enter the right age",
     "output_type": "error",
     "traceback": [
      "\u001b[1;31m---------------------------------------------------------------------------\u001b[0m",
      "\u001b[1;31mException\u001b[0m                                 Traceback (most recent call last)",
      "\u001b[1;32m~\\AppData\\Local\\Temp\\ipykernel_15860\\1581672281.py\u001b[0m in \u001b[0;36m<module>\u001b[1;34m\u001b[0m\n\u001b[0;32m      9\u001b[0m \u001b[0ma\u001b[0m \u001b[1;33m=\u001b[0m \u001b[0mint\u001b[0m\u001b[1;33m(\u001b[0m\u001b[0minput\u001b[0m\u001b[1;33m(\u001b[0m\u001b[1;34m\"please enter your name \"\u001b[0m\u001b[1;33m)\u001b[0m\u001b[1;33m)\u001b[0m\u001b[1;33m\u001b[0m\u001b[1;33m\u001b[0m\u001b[0m\n\u001b[0;32m     10\u001b[0m \u001b[1;32mif\u001b[0m \u001b[0ma\u001b[0m\u001b[1;33m<\u001b[0m\u001b[1;36m0\u001b[0m\u001b[1;33m:\u001b[0m\u001b[1;33m\u001b[0m\u001b[1;33m\u001b[0m\u001b[0m\n\u001b[1;32m---> 11\u001b[1;33m     \u001b[1;32mraise\u001b[0m \u001b[0mException\u001b[0m \u001b[1;33m(\u001b[0m\u001b[1;34m\" this is a negative  no please enter the right age\"\u001b[0m\u001b[1;33m)\u001b[0m\u001b[1;33m\u001b[0m\u001b[1;33m\u001b[0m\u001b[0m\n\u001b[0m",
      "\u001b[1;31mException\u001b[0m:  this is a negative  no please enter the right age"
     ]
    }
   ],
   "source": [
    "# 5 \n",
    "'''\n",
    "custome exception are the type of exception which are not given by the syaem nut which are created by the programer to deal with the program specific addition rules \n",
    "\n",
    "eg. if we have to in put the age of the peron in to system in the sys. in sys the int accpet as negative valur of the input nut \n",
    "age can tbe negative so can make the custome excetion \n",
    "code as follow \n",
    "'''\n",
    "a = int(input(\"please enter your name \"))\n",
    "if a<0:\n",
    "    raise Exception (\" this is a negative  no please enter the right age\")"
   ]
  },
  {
   "cell_type": "code",
   "execution_count": 8,
   "id": "8cc32c99",
   "metadata": {},
   "outputs": [
    {
     "name": "stdout",
     "output_type": "stream",
     "text": [
      "please enetr the age -2\n"
     ]
    },
    {
     "ename": "cust_exception",
     "evalue": "user has enter the negative no",
     "output_type": "error",
     "traceback": [
      "\u001b[1;31m---------------------------------------------------------------------------\u001b[0m",
      "\u001b[1;31mcust_exception\u001b[0m                            Traceback (most recent call last)",
      "\u001b[1;32m~\\AppData\\Local\\Temp\\ipykernel_15860\\2626072313.py\u001b[0m in \u001b[0;36m<module>\u001b[1;34m\u001b[0m\n\u001b[0;32m      7\u001b[0m         \u001b[1;32mraise\u001b[0m \u001b[0mcust_exception\u001b[0m \u001b[1;33m(\u001b[0m\u001b[1;34m\"user has enter the negative no\"\u001b[0m\u001b[1;33m)\u001b[0m\u001b[1;33m\u001b[0m\u001b[1;33m\u001b[0m\u001b[0m\n\u001b[0;32m      8\u001b[0m \u001b[0ma\u001b[0m\u001b[1;33m=\u001b[0m \u001b[0mint\u001b[0m\u001b[1;33m(\u001b[0m\u001b[0minput\u001b[0m\u001b[1;33m(\u001b[0m\u001b[1;34m\"please enetr the age \"\u001b[0m\u001b[1;33m)\u001b[0m\u001b[1;33m)\u001b[0m\u001b[1;33m\u001b[0m\u001b[1;33m\u001b[0m\u001b[0m\n\u001b[1;32m----> 9\u001b[1;33m \u001b[0mint_nnegative\u001b[0m\u001b[1;33m(\u001b[0m\u001b[0ma\u001b[0m\u001b[1;33m)\u001b[0m\u001b[1;33m\u001b[0m\u001b[1;33m\u001b[0m\u001b[0m\n\u001b[0m",
      "\u001b[1;32m~\\AppData\\Local\\Temp\\ipykernel_15860\\2626072313.py\u001b[0m in \u001b[0;36mint_nnegative\u001b[1;34m(a)\u001b[0m\n\u001b[0;32m      5\u001b[0m \u001b[1;32mdef\u001b[0m \u001b[0mint_nnegative\u001b[0m\u001b[1;33m(\u001b[0m\u001b[0ma\u001b[0m\u001b[1;33m)\u001b[0m\u001b[1;33m:\u001b[0m\u001b[1;33m\u001b[0m\u001b[1;33m\u001b[0m\u001b[0m\n\u001b[0;32m      6\u001b[0m     \u001b[1;32mif\u001b[0m \u001b[0ma\u001b[0m\u001b[1;33m<\u001b[0m\u001b[1;36m0\u001b[0m\u001b[1;33m:\u001b[0m\u001b[1;33m\u001b[0m\u001b[1;33m\u001b[0m\u001b[0m\n\u001b[1;32m----> 7\u001b[1;33m         \u001b[1;32mraise\u001b[0m \u001b[0mcust_exception\u001b[0m \u001b[1;33m(\u001b[0m\u001b[1;34m\"user has enter the negative no\"\u001b[0m\u001b[1;33m)\u001b[0m\u001b[1;33m\u001b[0m\u001b[1;33m\u001b[0m\u001b[0m\n\u001b[0m\u001b[0;32m      8\u001b[0m \u001b[0ma\u001b[0m\u001b[1;33m=\u001b[0m \u001b[0mint\u001b[0m\u001b[1;33m(\u001b[0m\u001b[0minput\u001b[0m\u001b[1;33m(\u001b[0m\u001b[1;34m\"please enetr the age \"\u001b[0m\u001b[1;33m)\u001b[0m\u001b[1;33m)\u001b[0m\u001b[1;33m\u001b[0m\u001b[1;33m\u001b[0m\u001b[0m\n\u001b[0;32m      9\u001b[0m \u001b[0mint_nnegative\u001b[0m\u001b[1;33m(\u001b[0m\u001b[0ma\u001b[0m\u001b[1;33m)\u001b[0m\u001b[1;33m\u001b[0m\u001b[1;33m\u001b[0m\u001b[0m\n",
      "\u001b[1;31mcust_exception\u001b[0m: user has enter the negative no"
     ]
    }
   ],
   "source": [
    "# Q6 \n",
    "'''\n",
    "we need to creat a custom class inherit the main Exception class and wrtite our logic to whhich additional exception we need to rease \n",
    "'''\n",
    "class cust_exception(Exception):\n",
    "    def __init__(self,msg):\n",
    "        self.msg = msg\n",
    "def int_nnegative(a):\n",
    "    if a<0:\n",
    "        raise cust_exception (\"user has enter the negative no\")\n",
    "a= int(input(\"please enetr the age \"))\n",
    "int_nnegative(a)"
   ]
  },
  {
   "cell_type": "code",
   "execution_count": null,
   "id": "6a8129a0",
   "metadata": {},
   "outputs": [],
   "source": []
  }
 ],
 "metadata": {
  "kernelspec": {
   "display_name": "Python 3 (ipykernel)",
   "language": "python",
   "name": "python3"
  },
  "language_info": {
   "codemirror_mode": {
    "name": "ipython",
    "version": 3
   },
   "file_extension": ".py",
   "mimetype": "text/x-python",
   "name": "python",
   "nbconvert_exporter": "python",
   "pygments_lexer": "ipython3",
   "version": "3.9.13"
  }
 },
 "nbformat": 4,
 "nbformat_minor": 5
}
