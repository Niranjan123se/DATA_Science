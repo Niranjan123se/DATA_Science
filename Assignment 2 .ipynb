{
 "cells": [
  {
   "cell_type": "markdown",
   "id": "551ed59b",
   "metadata": {},
   "source": [
    "## Assignment 2 "
   ]
  },
  {
   "cell_type": "raw",
   "id": "1e1e361d",
   "metadata": {},
   "source": [
    "Q1. How do you comment code in Python? What are the different types of comments?\n",
    "Q2. What are variables in Python? How do you declare and assign values to variables?\n",
    "Q3. How do you convert one data type to another in Python?\n",
    "Q4. How do you write and execute a Python script from the command line?\n",
    "Q5. Given a list my_list = [1, 2, 3, 4, 5], write the code to slice the list and obtain the sub-list [2, 3].\n",
    "Q6. What is a complex number in mathematics, and how is it represented in Python?\n",
    "Q7. What is the correct way to declare a variable named age and assign the value 25 to it?\n",
    "Q8. Declare a variable named price and assign the value 9.99 to it. What data type does this variable\n",
    "belong to?\n",
    "Q9. Create a variable named name and assign your full name to it as a string. How would you print the\n",
    "value of this variable?\n",
    "Q10. Given the string \"Hello, World!\", extract the substring \"World\".\n",
    "Q11. Create a variable named \"is_student\" and assign it a boolean value indicating whether you are\n",
    "currently a student or not."
   ]
  },
  {
   "cell_type": "code",
   "execution_count": 6,
   "id": "7b852e41",
   "metadata": {},
   "outputs": [
    {
     "data": {
      "text/plain": [
       "\"\\nAns to Q1 \\n\\nThee ae 2 ways of comment in python \\n1. Singile line can be start by notationn '#' sign \\n2. Multy line comment can be started and ended with 3 ''\\n\""
      ]
     },
     "execution_count": 6,
     "metadata": {},
     "output_type": "execute_result"
    }
   ],
   "source": [
    "'''\n",
    "Ans to Q1 \n",
    "\n",
    "Thee ae 2 ways of comment in python \n",
    "1. Singile line can be start by notationn '#' sign \n",
    "2. Multy line comment can be started and ended with 3 ''\n",
    "'''"
   ]
  },
  {
   "cell_type": "code",
   "execution_count": 9,
   "id": "ba5383d3",
   "metadata": {},
   "outputs": [
    {
     "data": {
      "text/plain": [
       "'\\nAns to Que 2 \\nVeriable are the contaners in the python that will store thhe pointer to the perticular data assignmed. \\nvariable decleration -  python dont have any command to declear the variable. they are declear at the time of creation/assignment. \\na=3 \\na= vegrible \\n3 is the value\\n\\n'"
      ]
     },
     "execution_count": 9,
     "metadata": {},
     "output_type": "execute_result"
    }
   ],
   "source": [
    "'''\n",
    "Ans to Que 2 \n",
    "Veriable are the contaners in the python that will store thhe pointer to the perticular data assignmed. \n",
    "variable decleration -  python dont have any command to declear the variable. they are declear at the time of creation/assignment. \n",
    "a=3 \n",
    "a= vegrible \n",
    "3 is the value\n",
    "\n",
    "'''"
   ]
  },
  {
   "cell_type": "code",
   "execution_count": 11,
   "id": "662b5210",
   "metadata": {},
   "outputs": [
    {
     "name": "stdout",
     "output_type": "stream",
     "text": [
      "<class 'int'>\n"
     ]
    },
    {
     "data": {
      "text/plain": [
       "str"
      ]
     },
     "execution_count": 11,
     "metadata": {},
     "output_type": "execute_result"
    }
   ],
   "source": [
    "'''\n",
    "data in pythonn can be converted from one typpe to other witth the help of specified function and the process is called the typecasting \n",
    "\n",
    "'''\n",
    "no = 30\n",
    "print(type(no))\n",
    "no = str(no)\n",
    "type(no)\n"
   ]
  },
  {
   "cell_type": "code",
   "execution_count": 12,
   "id": "8232330e",
   "metadata": {},
   "outputs": [],
   "source": [
    "# Q4. How do you write and execute a Python script from the command line? "
   ]
  },
  {
   "cell_type": "code",
   "execution_count": 13,
   "id": "78eea592",
   "metadata": {},
   "outputs": [
    {
     "data": {
      "text/plain": [
       "'\\nAns \\n\\nThis is can be done the the opning the shell or the ccommond promt at the direcotry where the python file is located. Then specify the command starting by the python word spacse file name with extention .py if any arrgument need to pass the program. \\n\\neg file name is Hello.py\\ncommand - python Hello.py \\n'"
      ]
     },
     "execution_count": 13,
     "metadata": {},
     "output_type": "execute_result"
    }
   ],
   "source": [
    "'''\n",
    "Ans \n",
    "\n",
    "This is can be done the the opning the shell or the ccommond promt at the direcotry where the python file is located. Then specify the command starting by the python word spacse file name with extention .py if any arrgument need to pass the program. \n",
    "\n",
    "eg file name is Hello.py\n",
    "command - python Hello.py \n",
    "'''"
   ]
  },
  {
   "cell_type": "code",
   "execution_count": 14,
   "id": "dd0e2f61",
   "metadata": {},
   "outputs": [],
   "source": [
    "# Given a list my_list = [1, 2, 3, 4, 5], write the code to slice the list and obtain the sub-list [2, 3]."
   ]
  },
  {
   "cell_type": "code",
   "execution_count": 15,
   "id": "b2b4cdd0",
   "metadata": {},
   "outputs": [],
   "source": [
    "my_list = [1, 2, 3, 4, 5]"
   ]
  },
  {
   "cell_type": "code",
   "execution_count": 18,
   "id": "0dcb81a4",
   "metadata": {},
   "outputs": [],
   "source": [
    "sub_list = my_list[1:3]"
   ]
  },
  {
   "cell_type": "code",
   "execution_count": 19,
   "id": "cc584c5e",
   "metadata": {},
   "outputs": [
    {
     "data": {
      "text/plain": [
       "[2, 3]"
      ]
     },
     "execution_count": 19,
     "metadata": {},
     "output_type": "execute_result"
    }
   ],
   "source": [
    "sub_list"
   ]
  },
  {
   "cell_type": "code",
   "execution_count": 20,
   "id": "7cab2a48",
   "metadata": {},
   "outputs": [],
   "source": [
    "# Q6. What is a complex number in mathematics, and how is it represented in Python?"
   ]
  },
  {
   "cell_type": "code",
   "execution_count": 21,
   "id": "924bcb25",
   "metadata": {},
   "outputs": [],
   "source": [
    "#  Complex numbers are the numbers that are expressed in the form of a+ib where, a,b are real numbers and 'i' is an imaginary number called “iota”.\n",
    "#  in Python Notation is a+bj(where the a,b are the numbers and j donote the imaginary notation)"
   ]
  },
  {
   "cell_type": "code",
   "execution_count": 22,
   "id": "8f243d8f",
   "metadata": {},
   "outputs": [
    {
     "name": "stdout",
     "output_type": "stream",
     "text": [
      "Object `it` not found.\n"
     ]
    }
   ],
   "source": [
    "# Q7. What is the correct way to declare a variable named age and assign the value 25 to it?"
   ]
  },
  {
   "cell_type": "code",
   "execution_count": null,
   "id": "523dac12",
   "metadata": {},
   "outputs": [],
   "source": [
    "age = 25"
   ]
  },
  {
   "cell_type": "code",
   "execution_count": 24,
   "id": "1b10e7cc",
   "metadata": {},
   "outputs": [
    {
     "data": {
      "text/plain": [
       "float"
      ]
     },
     "execution_count": 24,
     "metadata": {},
     "output_type": "execute_result"
    }
   ],
   "source": [
    "# Q8. Declare a variable named price and assign the value 9.99 to it. What data type does this variable\n",
    "# belong to?\n",
    "prise = 9.99 # type is float \n",
    "type(prise)"
   ]
  },
  {
   "cell_type": "code",
   "execution_count": 27,
   "id": "b9c0a7d4",
   "metadata": {},
   "outputs": [
    {
     "name": "stdout",
     "output_type": "stream",
     "text": [
      "Niranjan kulkarni\n"
     ]
    }
   ],
   "source": [
    "# Q9. Create a variable named name and assign your full name to it as a string. How would you print the\n",
    "# value of this variable?\n",
    "full_Name = \"Niranjan kulkarni\"\n",
    "# for printing the print function can be used \n",
    "print(full_Name)"
   ]
  },
  {
   "cell_type": "code",
   "execution_count": 29,
   "id": "0004ec6a",
   "metadata": {},
   "outputs": [
    {
     "data": {
      "text/plain": [
       "'World'"
      ]
     },
     "execution_count": 29,
     "metadata": {},
     "output_type": "execute_result"
    }
   ],
   "source": [
    "# Q10. Given the string \"Hello, World!\", extract the substring \"World\".\n",
    "str = \"Hello, World!\"\n",
    "sub_String = str[7:12]\n",
    "sub_String"
   ]
  },
  {
   "cell_type": "code",
   "execution_count": null,
   "id": "cd94f7fb",
   "metadata": {},
   "outputs": [],
   "source": [
    "# Q11. Create a variable named \"is_student\" and assign it a boolean value indicating whether you are\n",
    "# currently a student or not.\n",
    "is_student = True"
   ]
  }
 ],
 "metadata": {
  "kernelspec": {
   "display_name": "Python 3 (ipykernel)",
   "language": "python",
   "name": "python3"
  },
  "language_info": {
   "codemirror_mode": {
    "name": "ipython",
    "version": 3
   },
   "file_extension": ".py",
   "mimetype": "text/x-python",
   "name": "python",
   "nbconvert_exporter": "python",
   "pygments_lexer": "ipython3",
   "version": "3.9.13"
  }
 },
 "nbformat": 4,
 "nbformat_minor": 5
}
