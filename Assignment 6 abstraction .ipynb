{
 "cells": [
  {
   "cell_type": "markdown",
   "id": "bc5027ea",
   "metadata": {},
   "source": [
    "Assignment 6 OOP"
   ]
  },
  {
   "cell_type": "markdown",
   "id": "961e7c2f",
   "metadata": {},
   "source": [
    "Q1. What is Abstraction in OOps? Explain with an example.</br>\n",
    "Q2. Differentiate between Abstraction and Encapsulation. Explain with an example.</br>\n",
    "Q3. What is abc module in python? Why is it used?</br>\n",
    "Q4. How can we achieve data abstraction?</br>\n",
    "Q5. Can we create an instance of an abstract class? Explain your answer.</br>"
   ]
  },
  {
   "cell_type": "markdown",
   "id": "f5f5e53b",
   "metadata": {},
   "source": [
    "abstration is the prosess of hiding the irrelevent details form the user and providiing the only relavent details "
   ]
  },
  {
   "cell_type": "code",
   "execution_count": 14,
   "id": "7254b351",
   "metadata": {},
   "outputs": [],
   "source": [
    "from abc import ABC,abstractmethod"
   ]
  },
  {
   "cell_type": "code",
   "execution_count": 32,
   "id": "99bddcd2",
   "metadata": {},
   "outputs": [
    {
     "name": "stdout",
     "output_type": "stream",
     "text": [
      "hii\n"
     ]
    },
    {
     "ename": "TypeError",
     "evalue": "Can't instantiate abstract class sem2 with abstract method employee",
     "output_type": "error",
     "traceback": [
      "\u001b[1;31m---------------------------------------------------------------------------\u001b[0m",
      "\u001b[1;31mTypeError\u001b[0m                                 Traceback (most recent call last)",
      "\u001b[1;32m~\\AppData\\Local\\Temp\\ipykernel_18968\\1892203316.py\u001b[0m in \u001b[0;36m<module>\u001b[1;34m\u001b[0m\n\u001b[0;32m     15\u001b[0m         \u001b[0mprint\u001b[0m\u001b[1;33m(\u001b[0m\u001b[1;34m\"i will kill you \"\u001b[0m\u001b[1;33m)\u001b[0m\u001b[1;33m\u001b[0m\u001b[1;33m\u001b[0m\u001b[0m\n\u001b[0;32m     16\u001b[0m \u001b[1;33m\u001b[0m\u001b[0m\n\u001b[1;32m---> 17\u001b[1;33m \u001b[0mobj\u001b[0m \u001b[1;33m=\u001b[0m \u001b[0msem2\u001b[0m\u001b[1;33m(\u001b[0m\u001b[1;33m)\u001b[0m\u001b[1;33m\u001b[0m\u001b[1;33m\u001b[0m\u001b[0m\n\u001b[0m",
      "\u001b[1;31mTypeError\u001b[0m: Can't instantiate abstract class sem2 with abstract method employee"
     ]
    }
   ],
   "source": [
    "class abstract_1(ABC):\n",
    "    @abc.abstractmethod\n",
    "    def employee(self):\n",
    "        pass\n",
    "    \n",
    "    def my_st(self):\n",
    "        print(\"star\")\n",
    "class sem2(abstract_1):\n",
    "    print(\"hii\")\n",
    "    \n",
    "#     def employee(self):\n",
    "\n",
    "        \n",
    "    def my_st(self):\n",
    "        print(\"i will kill you \")\n",
    "        \n",
    "obj = sem2()"
   ]
  },
  {
   "cell_type": "code",
   "execution_count": 27,
   "id": "35889d7c",
   "metadata": {},
   "outputs": [
    {
     "name": "stdout",
     "output_type": "stream",
     "text": [
      "i will kill you \n"
     ]
    }
   ],
   "source": [
    "obj.employee()\n",
    "obj.my_st()"
   ]
  },
  {
   "cell_type": "markdown",
   "id": "67e24f70",
   "metadata": {},
   "source": [
    "ans to q2 Differentiate between Abstraction and Encapsulation. Explain with an example\n",
    "diffrence the anstractionis is used to hidig the execution details and encapsulation is helped for binding the data and mothods."
   ]
  },
  {
   "cell_type": "code",
   "execution_count": 40,
   "id": "76d2c696",
   "metadata": {},
   "outputs": [],
   "source": [
    "class bstra(ABC):\n",
    "    @abc.abstractmethod\n",
    "    def car(self):\n",
    "        pass\n",
    "class car(bstra):\n",
    "    def __init__(self, name, type_ptrol):\n",
    "        self.__name = name\n",
    "        self.type_ptrol = type_ptrol\n",
    "    def car(self):\n",
    "        print('thiss is car')"
   ]
  },
  {
   "cell_type": "code",
   "execution_count": 41,
   "id": "0fea99d2",
   "metadata": {},
   "outputs": [],
   "source": [
    "obj = car('nano', 'petrol')"
   ]
  },
  {
   "cell_type": "code",
   "execution_count": 44,
   "id": "25c2fd62",
   "metadata": {},
   "outputs": [
    {
     "data": {
      "text/plain": [
       "'petrol'"
      ]
     },
     "execution_count": 44,
     "metadata": {},
     "output_type": "execute_result"
    }
   ],
   "source": [
    "obj.type_ptrol"
   ]
  },
  {
   "cell_type": "code",
   "execution_count": 45,
   "id": "5206b229",
   "metadata": {},
   "outputs": [
    {
     "ename": "AttributeError",
     "evalue": "'car' object has no attribute '__name'",
     "output_type": "error",
     "traceback": [
      "\u001b[1;31m---------------------------------------------------------------------------\u001b[0m",
      "\u001b[1;31mAttributeError\u001b[0m                            Traceback (most recent call last)",
      "\u001b[1;32m~\\AppData\\Local\\Temp\\ipykernel_18968\\2189253194.py\u001b[0m in \u001b[0;36m<module>\u001b[1;34m\u001b[0m\n\u001b[1;32m----> 1\u001b[1;33m \u001b[0mobj\u001b[0m\u001b[1;33m.\u001b[0m\u001b[0m__name\u001b[0m\u001b[1;33m\u001b[0m\u001b[1;33m\u001b[0m\u001b[0m\n\u001b[0m",
      "\u001b[1;31mAttributeError\u001b[0m: 'car' object has no attribute '__name'"
     ]
    }
   ],
   "source": [
    "obj.__name# this is an example of encapsulation "
   ]
  },
  {
   "cell_type": "code",
   "execution_count": 46,
   "id": "5a25ba83",
   "metadata": {},
   "outputs": [],
   "source": [
    "# Q3. What is abc module in python? Why is it used?"
   ]
  },
  {
   "cell_type": "markdown",
   "id": "a6ae54eb",
   "metadata": {},
   "source": [
    "this is used to creat the abstract class and coomen interfacr and provide he nessary finction to be created "
   ]
  },
  {
   "cell_type": "code",
   "execution_count": 47,
   "id": "6650d89b",
   "metadata": {},
   "outputs": [],
   "source": [
    "class bstra(ABC):\n",
    "    @abc.abstractmethod\n",
    "    def car(self):\n",
    "        pass\n",
    "class car(bstra):\n",
    "    def __init__(self, name, type_ptrol):\n",
    "        self.__name = name\n",
    "        self.type_ptrol = type_ptrol\n",
    "    def car(self):\n",
    "        print('thiss is car')# in this exaple we can see that the abstract class is helping to enforce to creat th ecar method "
   ]
  },
  {
   "cell_type": "code",
   "execution_count": 48,
   "id": "95d2da61",
   "metadata": {},
   "outputs": [],
   "source": [
    "# Q4. How can we achieve data abstraction?"
   ]
  },
  {
   "cell_type": "markdown",
   "id": "f11be61e",
   "metadata": {},
   "source": [
    "with the help of ABC class we can achive the abstarction.  we have to use the abstact method as an decorator. as memtioned in the bellow expale "
   ]
  },
  {
   "cell_type": "code",
   "execution_count": 49,
   "id": "5ae64dc9",
   "metadata": {},
   "outputs": [],
   "source": [
    "class bstra(ABC):\n",
    "    @abc.abstractmethod\n",
    "    def car(self):\n",
    "        pass\n",
    "class car(bstra):\n",
    "    def __init__(self, name, type_ptrol):\n",
    "        self.__name = name\n",
    "        self.type_ptrol = type_ptrol\n",
    "    def car(self):\n",
    "        print('thiss is car')"
   ]
  },
  {
   "cell_type": "markdown",
   "id": "0f172d3a",
   "metadata": {},
   "source": [
    "Q5. Can we create an instance of an abstract class? Explain your answer. <br>\n",
    "==> the abstact class is designeed to create the flow and define the nessesary function and layout the structure. hence we cant creat the instance in to abstact calass.  the class who inhiti the abs calss can create the instance hence indiretly we can have the instance but not the in abstact class."
   ]
  },
  {
   "cell_type": "code",
   "execution_count": null,
   "id": "85d637c7",
   "metadata": {},
   "outputs": [],
   "source": []
  }
 ],
 "metadata": {
  "kernelspec": {
   "display_name": "Python 3 (ipykernel)",
   "language": "python",
   "name": "python3"
  },
  "language_info": {
   "codemirror_mode": {
    "name": "ipython",
    "version": 3
   },
   "file_extension": ".py",
   "mimetype": "text/x-python",
   "name": "python",
   "nbconvert_exporter": "python",
   "pygments_lexer": "ipython3",
   "version": "3.9.13"
  }
 },
 "nbformat": 4,
 "nbformat_minor": 5
}
