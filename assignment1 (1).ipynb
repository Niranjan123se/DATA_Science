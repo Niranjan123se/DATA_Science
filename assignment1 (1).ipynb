{
 "cells": [
  {
   "cell_type": "code",
   "execution_count": 2,
   "id": "c4c0099b-3666-44bc-98a6-b1b46371d478",
   "metadata": {},
   "outputs": [],
   "source": [
    "# que 1 Q1. Create one variable containing following type of data:\n",
    "# (i) string\n",
    "# (ii) list\n",
    "# (iii) float\n",
    "# (iv) tuple"
   ]
  },
  {
   "cell_type": "code",
   "execution_count": 5,
   "id": "6b1e02e9-eeb2-4753-bb37-85e34a061b7a",
   "metadata": {},
   "outputs": [
    {
     "name": "stdout",
     "output_type": "stream",
     "text": [
      "<class 'tuple'>\n"
     ]
    }
   ],
   "source": [
    "str = \"hi this ismy string example\"\n",
    "list= [\"this is string at 0th idex\", 112, True]\n",
    "f_no = 25.3\n",
    "tuple = (\"hii\", 3, True)\n",
    "print(type(tuple))"
   ]
  },
  {
   "cell_type": "code",
   "execution_count": 7,
   "id": "ea9d5d22-4967-42f2-82d0-d91ea6177e13",
   "metadata": {},
   "outputs": [],
   "source": [
    "\n",
    "# Q2. Given are some following variables containing data:\n",
    "# (i) var1 = ‘ '\n",
    "# (ii) var2 = ‘[ DS , ML , Python]’\n",
    "# (iii) var3 = [ ‘DS’ , ’ML’ , ‘Python’ ]\n",
    "# (iv) var4 = 1.\n",
    "# What will be the data type of the above given variable."
   ]
  },
  {
   "cell_type": "code",
   "execution_count": 10,
   "id": "2d4a593b-7d06-4842-8ff1-d2023f04bd16",
   "metadata": {},
   "outputs": [],
   "source": [
    "var1 = ' ' #thsi will be an string \n",
    "var2 = '[ DS , ML , Python]' # this is an string\n",
    "var3 = [ 'DS' , 'ML' , 'Python' ] #this is a list\n",
    "var4 = 1. # float no "
   ]
  },
  {
   "cell_type": "code",
   "execution_count": 11,
   "id": "ef01d4f9-156b-48d9-825b-9ae76dc6c07f",
   "metadata": {},
   "outputs": [
    {
     "name": "stdout",
     "output_type": "stream",
     "text": [
      "<class 'str'>\n",
      "<class 'str'>\n",
      "<class 'list'>\n",
      "<class 'float'>\n"
     ]
    }
   ],
   "source": [
    "print(type(var1))\n",
    "print(type(var2))\n",
    "print(type(var3))\n",
    "print(type(var4))"
   ]
  },
  {
   "cell_type": "raw",
   "id": "e2d397f0-b59d-468a-9e1d-4118bb36d678",
   "metadata": {},
   "source": [
    "Q3. Explain the use of the following operators using an example:\n",
    "(i) / # this is a divider simbol. 4/2 = 2.0 (return the float no \n",
    "(ii) % # this gives the reminder of the division eg 5%2=1\n",
    "(iii) // # this will retuen the answer of the division in int 25//2=12\n",
    "(iv) ** # this gives the power of the number 2**3=8"
   ]
  },
  {
   "cell_type": "raw",
   "id": "d9be9e62-6fa0-4e63-8f42-8bb54e1414bb",
   "metadata": {},
   "source": [
    "Q4. Create a list of length 10 of your choice containing multiple types of data. Using for loop print the\n",
    "element and its data type."
   ]
  },
  {
   "cell_type": "code",
   "execution_count": 20,
   "id": "12e9b6b2-fac6-43e7-ace9-027d688ea81c",
   "metadata": {},
   "outputs": [],
   "source": [
    "l=[\"ml\", 'DL', 4, True, 3., 1, 2,\"niranjan\", \"hi:bye\"]"
   ]
  },
  {
   "cell_type": "code",
   "execution_count": null,
   "id": "369adfee-7e58-44aa-8307-f498e20aa7b7",
   "metadata": {},
   "outputs": [],
   "source": [
    "for i, item in enumerate(l):\n",
    "    print(\"At {}th index we have {} and its type is\".format(i,item,),(type(i)))"
   ]
  },
  {
   "cell_type": "code",
   "execution_count": null,
   "id": "35c00264-8151-4724-a0aa-d42988de3763",
   "metadata": {},
   "outputs": [],
   "source": [
    "Q5. Using a while loop, verify if the number A is purely divisible by number B and if so then how many\n",
    "times it can be divisible."
   ]
  },
  {
   "cell_type": "code",
   "execution_count": null,
   "id": "88c29edc-3859-41d0-a2b0-f23e242ad6e6",
   "metadata": {},
   "outputs": [],
   "source": [
    "A = int(input())\n",
    "B = 0\n",
    "C = A%8\n",
    "while (C==0):\n",
    "    A=A//8\n",
    "    B+=1\n",
    "print(B)\n"
   ]
  },
  {
   "cell_type": "code",
   "execution_count": null,
   "id": "36e15f60-e19e-45da-ae1a-e2b20528c152",
   "metadata": {},
   "outputs": [],
   "source": [
    "A = int(input())\n",
    "B = 0\n",
    "C = A % 8\n",
    "while C == 0:\n",
    "    A = A // 8\n",
    "    B += 1\n",
    "    C = A % 8\n",
    "print(B)\n"
   ]
  },
  {
   "cell_type": "code",
   "execution_count": null,
   "id": "bd6ae465-510a-4911-a530-3bfa8288c7c6",
   "metadata": {},
   "outputs": [],
   "source": [
    "'Q6. Create a list containing 25 int type data. Using for loop and if-else condition print if the element is divisible by 3 or not.'\n"
   ]
  },
  {
   "cell_type": "code",
   "execution_count": null,
   "id": "2b4a2c41-8197-461c-8583-760afdc41cb6",
   "metadata": {},
   "outputs": [],
   "source": [
    "My_s = [1,2,3,4,5,6,7,8,9,10,11,12,13,14,15,16,17,18,19,20]\n",
    "for i in My_s:\n",
    "    if i%3 == 0:\n",
    "        print(i)"
   ]
  },
  {
   "cell_type": "code",
   "execution_count": null,
   "id": "3c0ad142-338c-4fd9-b256-0136b92779b3",
   "metadata": {},
   "outputs": [],
   "source": [
    "'Q7. What do you understand about mutable and immutable data types? Give examples for both showing this property."
   ]
  },
  {
   "cell_type": "code",
   "execution_count": null,
   "id": "1933145f-2de5-49dc-b24d-58ec095b32cf",
   "metadata": {},
   "outputs": [],
   "source": [
    "'''\n",
    "muttable is the data tyoe that can be chage once they are made eg string we can change the  elelments of the strinng\n",
    "immutable onnce the contaner is defined then subsequent changes are not permited.\n",
    "'''"
   ]
  },
  {
   "cell_type": "code",
   "execution_count": null,
   "id": "57e4fd0c-ffe2-4f7c-90be-a3dbaf3c0509",
   "metadata": {},
   "outputs": [],
   "source": [
    "# this is eg of immutabke \n",
    "str ='hiii'\n",
    "str[2] = \"h\"\n",
    "str"
   ]
  },
  {
   "cell_type": "code",
   "execution_count": null,
   "id": "850a8cad-5896-489e-9df8-6a7a6c91b642",
   "metadata": {},
   "outputs": [],
   "source": [
    "List_mutable = [1,\"hii\",2]\n",
    "list_mutable[1] =\"hii\"\n"
   ]
  },
  {
   "cell_type": "code",
   "execution_count": null,
   "id": "4d3d6126-3e9a-42d1-b198-9f19644b9b70",
   "metadata": {},
   "outputs": [],
   "source": []
  }
 ],
 "metadata": {
  "kernelspec": {
   "display_name": "Python 3 (ipykernel)",
   "language": "python",
   "name": "python3"
  },
  "language_info": {
   "codemirror_mode": {
    "name": "ipython",
    "version": 3
   },
   "file_extension": ".py",
   "mimetype": "text/x-python",
   "name": "python",
   "nbconvert_exporter": "python",
   "pygments_lexer": "ipython3",
   "version": "3.10.8"
  }
 },
 "nbformat": 4,
 "nbformat_minor": 5
}
