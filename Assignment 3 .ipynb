{
 "cells": [
  {
   "cell_type": "markdown",
   "id": "cc91710a",
   "metadata": {},
   "source": [
    "# Assignment 3 "
   ]
  },
  {
   "cell_type": "raw",
   "id": "518be2f2",
   "metadata": {},
   "source": [
    "Q1. Which keyword is used to create a function? Create a function to return a list of odd numbers in the\n",
    "range of 1 to 25.\n",
    "Q2. Why *args and **kwargs is used in some functions? Create a function each for *args and **kwargs\n",
    "to demonstrate their use.\n",
    "Q3. What is an iterator in python? Name the method used to initialise the iterator object and the method\n",
    "used for iteration. Use these methods to print the first five elements of the given list [2, 4, 6, 8, 10, 12, 14,\n",
    "16, 18, 20].\n",
    "Q4. What is a generator function in python? Why yield keyword is used? Give an example of a generator\n",
    "function.\n",
    "Q5. Create a generator function for prime numbers less than 1000. Use the next() method to print the\n",
    "first 20 prime numbers.\n",
    "Q6. Write a python program to print the first 10 Fibonacci numbers using a while loop.\n",
    "Q7. Write a List Comprehension to iterate through the given string: ‘pwskills’.\n",
    "Expected output: ['p', 'w', 's', 'k', 'i', 'l', 'l', 's']\n",
    "Q8. Write a python program to check whether a given number is Palindrome or not using a while loop.\n",
    "Q9. Write a code to print odd numbers from 1 to 100 using list comprehension.\n",
    "Note: Use a list comprehension to create a list from 1 to 100 and use another List comprehension to filter\n",
    "out odd numbers."
   ]
  },
  {
   "cell_type": "code",
   "execution_count": 1,
   "id": "1ed2968d",
   "metadata": {},
   "outputs": [],
   "source": [
    "#  ans to q1"
   ]
  },
  {
   "cell_type": "code",
   "execution_count": 7,
   "id": "1ddab2ca",
   "metadata": {},
   "outputs": [
    {
     "data": {
      "text/plain": [
       "[1, 3, 5, 7, 9, 11, 13, 15, 17, 19]"
      ]
     },
     "execution_count": 7,
     "metadata": {},
     "output_type": "execute_result"
    }
   ],
   "source": [
    "'''\n",
    "def keywork is used to creat a function \n",
    "\n",
    "'''\n",
    "def list_odd_no():\n",
    "    list_of_add_no = []\n",
    "    for i in range(0,20):\n",
    "        if i %2 == 1:\n",
    "            list_of_add_no.append(i)\n",
    "    return list_of_add_no\n",
    "list_odd_no()"
   ]
  },
  {
   "cell_type": "code",
   "execution_count": 8,
   "id": "b9a0ced5",
   "metadata": {},
   "outputs": [],
   "source": [
    "# and to Q2 "
   ]
  },
  {
   "cell_type": "code",
   "execution_count": 9,
   "id": "c0c40efd",
   "metadata": {},
   "outputs": [],
   "source": [
    "'''\n",
    "*args when we have to pass indefinite values at that timme we use the *args. in function we dont use * simbol to acess. genraly we use the loop for working with the args\n",
    "**kwargs when we have to pass the data in the form of key value pair then we use the **kwargs. \n",
    "'''\n",
    "def print_val(a,*b,**c):\n",
    "    print(a)\n",
    "    print(b)\n",
    "    print(a)\n",
    "    print(c)"
   ]
  },
  {
   "cell_type": "code",
   "execution_count": 10,
   "id": "b44954e8",
   "metadata": {},
   "outputs": [
    {
     "name": "stdout",
     "output_type": "stream",
     "text": [
      "1\n",
      "()\n",
      "1\n",
      "{'b': ['a', 'b', 'c'], 'c': {'n': ['d', 'f', 'g'], 'k': 'jii', 'num': 14.2}}\n"
     ]
    }
   ],
   "source": [
    "a= 1\n",
    "b =['a','b','c']\n",
    "c ={\"n\" : ['d','f','g'],\"k\":\"jii\",\"num\":14.2}\n",
    "print_val(a=a,b=b,c=c)"
   ]
  },
  {
   "cell_type": "code",
   "execution_count": 14,
   "id": "f4e126c5",
   "metadata": {},
   "outputs": [
    {
     "data": {
      "text/plain": [
       "['t', 'h', 'i', 's', '_', 'i', 's', '_', 'b', 'a', 'n', 'a', 'n', 'a']"
      ]
     },
     "execution_count": 14,
     "metadata": {},
     "output_type": "execute_result"
    }
   ],
   "source": [
    "\n",
    "'''\n",
    "Q3. What is an iterator in python? Name the method used to initialise the iterator object and the method\n",
    "used for iteration. Use these methods to print the first five elements of the given list [2, 4, 6, 8, 10, 12, 14,\n",
    "16, 18, 20].\n",
    "\n",
    "ANS\n",
    "\n",
    "iterator is the method used to itrate over the iterrable. eg we can extract the elemets form the string and perfom various action on it \n",
    "their are mainly two methods are there inn python \n",
    "1.__iter()__ and __next()__\n",
    "iter converts the torable to iterator eg 1 \n",
    "next gives the next elemen of itarator \n",
    "'''\n",
    "my_str =\"this_is_banana\"\n",
    "itrable_str =list(iter(my_str))\n",
    "itrable_str\n"
   ]
  },
  {
   "cell_type": "code",
   "execution_count": 17,
   "id": "680ccbbe",
   "metadata": {},
   "outputs": [
    {
     "name": "stdout",
     "output_type": "stream",
     "text": [
      "t\n",
      "h\n",
      "i\n",
      "s\n"
     ]
    }
   ],
   "source": [
    "mystr=(iter(my_str))\n",
    "print(next(mystr))\n",
    "print(next(mystr))\n",
    "print(next(mystr))\n",
    "print(next(mystr))"
   ]
  },
  {
   "cell_type": "code",
   "execution_count": 23,
   "id": "1104b3f1",
   "metadata": {},
   "outputs": [
    {
     "name": "stdout",
     "output_type": "stream",
     "text": [
      "2\n",
      "4\n",
      "6\n",
      "8\n",
      "10\n"
     ]
    }
   ],
   "source": [
    "given_list= [2, 4, 6, 8, 10, 12, 14, 16, 18, 20]\n",
    "liist = iter(given_list)\n",
    "for i in range(0,5):\n",
    "    print(next(liist))"
   ]
  },
  {
   "cell_type": "code",
   "execution_count": 32,
   "id": "cde9797c",
   "metadata": {},
   "outputs": [
    {
     "name": "stdout",
     "output_type": "stream",
     "text": [
      "0\n"
     ]
    }
   ],
   "source": [
    "'''\n",
    "Q4. What is a generator function in python? Why yield keyword is used? Give an example of a generator\n",
    "function.\n",
    "genrator function in python help to genrate the objects which will genrate the required input at the time of requrement\n",
    "this help to optimise the memory and computatinal optimization.\n",
    "the yield key word is used for genration the outcomme form genrator function also it performs the return function.\n",
    "eg\n",
    "'''\n",
    "def gen2():\n",
    "    for i in range(0,20):\n",
    "        yield i \n",
    "k = iter(list(gen2()))\n",
    "print(next(k))"
   ]
  },
  {
   "cell_type": "code",
   "execution_count": 33,
   "id": "589aada7",
   "metadata": {},
   "outputs": [
    {
     "name": "stdout",
     "output_type": "stream",
     "text": [
      "1\n"
     ]
    }
   ],
   "source": [
    "print(next(k))"
   ]
  },
  {
   "cell_type": "code",
   "execution_count": 14,
   "id": "2ab32297",
   "metadata": {},
   "outputs": [],
   "source": [
    "# Q5. Create a generator function for prime numbers less than 1000. Use the next() method to print the\n",
    "# first 20 prime numbers.\n",
    "def prime_no():\n",
    "    l1=[]\n",
    "    for i in range(0,1000):\n",
    "        for j in range(2,i):\n",
    "            if i%j==0:\n",
    "                break\n",
    "            else:\n",
    "                l1.append(i)\n",
    "#                 print(i)\n",
    "    return l1"
   ]
  },
  {
   "cell_type": "code",
   "execution_count": 20,
   "id": "d8d7b9ea",
   "metadata": {},
   "outputs": [],
   "source": [
    "list_primme = iter(list(set(prime_no())))"
   ]
  },
  {
   "cell_type": "code",
   "execution_count": 28,
   "id": "c2cc9058",
   "metadata": {},
   "outputs": [
    {
     "name": "stdout",
     "output_type": "stream",
     "text": [
      "43 45 47 49 51 53 55 57 59 61 63 65 67 69 71 73 75 77 79 81 "
     ]
    }
   ],
   "source": [
    "def myPrime_gen():\n",
    "    for i in list_primme:\n",
    "        yield i \n",
    "for i in range(0,20):\n",
    "    print(next(myPrime_gen()),end = \" \")\n",
    "    "
   ]
  },
  {
   "cell_type": "code",
   "execution_count": 27,
   "id": "c42b943d",
   "metadata": {},
   "outputs": [
    {
     "name": "stdout",
     "output_type": "stream",
     "text": [
      "0 1 1 2 3 5 8 13 21 34 "
     ]
    }
   ],
   "source": [
    "'''\n",
    "Q6. Write a python program to print the first 10 Fibonacci numbers using a while loop.\n",
    "'''\n",
    "while True:\n",
    "    a,b = 0,1\n",
    "    for i in range(0,10):\n",
    "        print(a,end=\" \")\n",
    "        a,b =b,b+a\n",
    "        \n",
    "        \n",
    "    break\n",
    "        "
   ]
  },
  {
   "cell_type": "code",
   "execution_count": 32,
   "id": "03b6b1f7",
   "metadata": {},
   "outputs": [
    {
     "data": {
      "text/plain": [
       "['p', 'w', 's', 'k', 'i', 'l', 'l', 's']"
      ]
     },
     "execution_count": 32,
     "metadata": {},
     "output_type": "execute_result"
    }
   ],
   "source": [
    "'''\n",
    "\n",
    "Q7. Write a List Comprehension to iterate through the given string: ‘pwskills’.\n",
    "Expected output: ['p', 'w', 's', 'k', 'i', 'l', 'l', 's']\n",
    "'''\n",
    "string_1 = 'pwskills'\n",
    "s1 =list(string_1)\n",
    "s1"
   ]
  },
  {
   "cell_type": "code",
   "execution_count": 33,
   "id": "9f0fc744",
   "metadata": {},
   "outputs": [
    {
     "name": "stdout",
     "output_type": "stream",
     "text": [
      "False\n"
     ]
    }
   ],
   "source": [
    "'''\n",
    "Q8. Write a python program to check whether a given number is Palindrome or not using a while loop. \n",
    "for the purpose of testing will take the exaple 'radar' \n",
    "'''\n",
    "str_pal = 'radars'\n",
    "\n",
    "def palendromic_ch(a):\n",
    "    b = list(a)\n",
    "    length = len(b)\n",
    "    for i, j in enumerate(a):\n",
    "        if i < ((length/2) - 0.05):\n",
    "            if b[i] != b[-i-1]:\n",
    "                return False\n",
    "        else:\n",
    "            return True\n",
    "\n",
    "is_palindrome = palendromic_ch(str_pal)\n",
    "print(is_palindrome)\n",
    "            \n",
    "        \n",
    "     \n",
    "    \n",
    "    "
   ]
  },
  {
   "cell_type": "code",
   "execution_count": 34,
   "id": "7f688cc7",
   "metadata": {},
   "outputs": [],
   "source": [
    "# 0    1    2    3    4\n",
    "# r    a    d    a    r\n",
    "# -1  -2   -3   -4   -5"
   ]
  },
  {
   "cell_type": "code",
   "execution_count": 35,
   "id": "791595a2",
   "metadata": {},
   "outputs": [
    {
     "data": {
      "text/plain": [
       "False"
      ]
     },
     "execution_count": 35,
     "metadata": {},
     "output_type": "execute_result"
    }
   ],
   "source": [
    "palendromic_ch(str_pal)"
   ]
  },
  {
   "cell_type": "code",
   "execution_count": 16,
   "id": "2800bd45",
   "metadata": {},
   "outputs": [],
   "source": [
    "'''\n",
    "Q9. Write a code to print odd numbers from 1 to 100 using list comprehension.\n",
    "'''\n",
    "l = [x for x in range(100) if x%2== 1]"
   ]
  },
  {
   "cell_type": "code",
   "execution_count": 17,
   "id": "e91ea53c",
   "metadata": {},
   "outputs": [
    {
     "data": {
      "text/plain": [
       "[1,\n",
       " 3,\n",
       " 5,\n",
       " 7,\n",
       " 9,\n",
       " 11,\n",
       " 13,\n",
       " 15,\n",
       " 17,\n",
       " 19,\n",
       " 21,\n",
       " 23,\n",
       " 25,\n",
       " 27,\n",
       " 29,\n",
       " 31,\n",
       " 33,\n",
       " 35,\n",
       " 37,\n",
       " 39,\n",
       " 41,\n",
       " 43,\n",
       " 45,\n",
       " 47,\n",
       " 49,\n",
       " 51,\n",
       " 53,\n",
       " 55,\n",
       " 57,\n",
       " 59,\n",
       " 61,\n",
       " 63,\n",
       " 65,\n",
       " 67,\n",
       " 69,\n",
       " 71,\n",
       " 73,\n",
       " 75,\n",
       " 77,\n",
       " 79,\n",
       " 81,\n",
       " 83,\n",
       " 85,\n",
       " 87,\n",
       " 89,\n",
       " 91,\n",
       " 93,\n",
       " 95,\n",
       " 97,\n",
       " 99]"
      ]
     },
     "execution_count": 17,
     "metadata": {},
     "output_type": "execute_result"
    }
   ],
   "source": [
    "l"
   ]
  },
  {
   "cell_type": "code",
   "execution_count": 20,
   "id": "9fdd631d",
   "metadata": {},
   "outputs": [
    {
     "name": "stdout",
     "output_type": "stream",
     "text": [
      "True\n"
     ]
    }
   ],
   "source": []
  },
  {
   "cell_type": "code",
   "execution_count": null,
   "id": "755b2521",
   "metadata": {},
   "outputs": [],
   "source": []
  }
 ],
 "metadata": {
  "kernelspec": {
   "display_name": "Python 3 (ipykernel)",
   "language": "python",
   "name": "python3"
  },
  "language_info": {
   "codemirror_mode": {
    "name": "ipython",
    "version": 3
   },
   "file_extension": ".py",
   "mimetype": "text/x-python",
   "name": "python",
   "nbconvert_exporter": "python",
   "pygments_lexer": "ipython3",
   "version": "3.9.13"
  }
 },
 "nbformat": 4,
 "nbformat_minor": 5
}
