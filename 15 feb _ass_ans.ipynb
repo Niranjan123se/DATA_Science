{
 "cells": [
  {
   "cell_type": "raw",
   "id": "b2e1d050",
   "metadata": {},
   "source": [
    "# Q1. What is multiprocessing in python? Why is it useful?  \n",
    "Q2. What are the differences between multiprocessing and multithreading? \n",
    "Q3. Write a python code to create a process using the multiprocessing module. \n",
    "Q4. What is a multiprocessing pool in python? Why is it used? \n",
    "Q5. How can we create a pool of worker processes in python using the multiprocessing module? \n",
    "Q6. Write a Python program to create 4 processes, each process should print a different number using the \n",
    "multiprocessing module in python. "
   ]
  },
  {
   "cell_type": "raw",
   "id": "2c0b9b5d",
   "metadata": {},
   "source": [
    "ans to q1 \n",
    "multyprocessing is the way throgh the multiple program and process are created and managed simultanously.  process is an instance of the program that is enables the executed independeltly and has its won space.\n",
    "improven the performance of the sysytem \n",
    "this distribut the load. \n",
    "this increase the responsienes \n",
    "task isolation each process is isolated and handelled independently \n"
   ]
  },
  {
   "cell_type": "markdown",
   "id": "b036b1d6",
   "metadata": {},
   "source": [
    "ans to q2 \n",
    "im multy processing the multiple core are engage to get the program done \n",
    "in threadig the one coure is utilese and multitple program are executed in the one by one."
   ]
  },
  {
   "cell_type": "code",
   "execution_count": 7,
   "id": "ab11e4ba",
   "metadata": {},
   "outputs": [
    {
     "name": "stdout",
     "output_type": "stream",
     "text": [
      "we done the work\n"
     ]
    }
   ],
   "source": [
    "# and yo q3\n",
    "\n",
    "import multiprocessing\n",
    "\n",
    "def myf1():\n",
    "    print(myf1)\n",
    "if __name__ == '__main__':# this will cerat the process object \n",
    "    multy_proc = multiprocessing.Process(target = myf1)\n",
    "    multy_proc.start()\n",
    "    multy_proc.join()\n",
    "    print(\"we done the work\")\n",
    "    "
   ]
  },
  {
   "cell_type": "raw",
   "id": "40298004",
   "metadata": {},
   "source": [
    "ans to q 4\n",
    "multy processing modulle allow to create and manage the pool of worker process. the pool is responsible for distributing the porces and collting once the task is done  its done  for task distribution. work resuse (istide creating the new process they use the existing worker process.\n",
    "task parallelism this will execute th eprosess paralelle \n"
   ]
  },
  {
   "cell_type": "code",
   "execution_count": null,
   "id": "a8a58c87",
   "metadata": {},
   "outputs": [],
   "source": [
    "#  and to q5 \n",
    "import multiprocessing\n",
    "def process_fn(task):\n",
    "    result = task *2\n",
    "    return result \n",
    "if __name__ == '__main__':\n",
    "    pool_val = multiprocessing.Pool(processes=3)\n",
    "    tasks = [1,2,3,4,5]\n",
    "    result = pool_val.map(process_fn,tasks)\n",
    "    pool_val.close()# this will indicate theat the no more task will assign to the pool \n",
    "    pool_val.join()\n",
    "print(result)"
   ]
  },
  {
   "cell_type": "code",
   "execution_count": 2,
   "id": "634799a5",
   "metadata": {},
   "outputs": [],
   "source": [
    "and to q6\n",
    "\n",
    "import multiprocessing\n",
    "\n",
    "def print_number(number):\n",
    "    print(\"Process\", number, \"prints\", number)\n",
    "\n",
    "if __name__ == '__main__':\n",
    "    processes = []\n",
    "\n",
    "    for i in range(4):\n",
    "        process = multiprocessing.Process(target=print_number, args=(i,))\n",
    "        processes.append(process)\n",
    "        process.start()\n",
    "\n",
    "    for process in processes:\n",
    "        process.join()\n"
   ]
  },
  {
   "cell_type": "code",
   "execution_count": null,
   "id": "185c7b07",
   "metadata": {},
   "outputs": [],
   "source": []
  }
 ],
 "metadata": {
  "kernelspec": {
   "display_name": "Python 3 (ipykernel)",
   "language": "python",
   "name": "python3"
  },
  "language_info": {
   "codemirror_mode": {
    "name": "ipython",
    "version": 3
   },
   "file_extension": ".py",
   "mimetype": "text/x-python",
   "name": "python",
   "nbconvert_exporter": "python",
   "pygments_lexer": "ipython3",
   "version": "3.9.13"
  }
 },
 "nbformat": 4,
 "nbformat_minor": 5
}
