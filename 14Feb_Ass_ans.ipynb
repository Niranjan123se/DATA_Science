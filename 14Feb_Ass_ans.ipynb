{
 "cells": [
  {
   "cell_type": "raw",
   "id": "585933f7",
   "metadata": {},
   "source": [
    "1. what is multithreading in python? why is it used? Name the module used to handle threads in python.\n",
    "2. why threading module used? write the use of the following functions\n",
    "     a. activeCount()\n",
    "     b. currentThread()\n",
    "     c. enumerate()\n",
    "3. Explain the following functions\n",
    "    1. run()\n",
    "    2. start()\n",
    "    3. join()\n",
    "    4. isAlive()\n",
    "4. Write a python program to create two threads. Thread one must print the list of squares and thread\n",
    "two must print the list of cubes\n",
    "5. State advantages and disadvantages of multithreading\n",
    "6. Explain deadlocks and race conditions."
   ]
  },
  {
   "cell_type": "raw",
   "id": "3532637e",
   "metadata": {},
   "source": [
    "ans to 1\n",
    "Multithreading is the process in which program are simultanously execute multiple threads of control withein a single process \n",
    "when we have to execuet multpl threads in one program eg this is used in testign when we have to provide multiple inputs to a profram\n",
    "in the GUI we can keep the high time consuming task at back end and low time consuming task at front \n",
    "Mudule - threading "
   ]
  },
  {
   "cell_type": "markdown",
   "id": "d2259107",
   "metadata": {},
   "source": [
    "# Ans - 2\n",
    "'''\n",
    "threading is the mudule is used to handel treads and provides a high-level interface for working with them. this is helps to manage  the execution of the threads \n",
    "\n",
    "a. activeCount()\n",
    "\n",
    "    this count the number the active threads \n",
    "    \n",
    "b. currentThread()\n",
    "\n",
    "    this will be give the currrent active threads \n",
    "    \n",
    "c. enumerate()\n",
    "    This will enlist the all active active threads \n",
    "    \n",
    "  \n",
    "'''\n",
    "\n"
   ]
  },
  {
   "cell_type": "code",
   "execution_count": 1,
   "id": "a4be1c9e",
   "metadata": {},
   "outputs": [],
   "source": [
    "import threading"
   ]
  },
  {
   "cell_type": "code",
   "execution_count": 2,
   "id": "c360e018",
   "metadata": {},
   "outputs": [],
   "source": [
    "def task():\n",
    "    print (\"running threads\", threading.current_thread().getName())\n",
    "#  creating the multiple threads \n",
    "thread = [threading.Thread(target = task) for i in range(5)]\n",
    "    \n",
    "                               "
   ]
  },
  {
   "cell_type": "code",
   "execution_count": 3,
   "id": "b251ef9e",
   "metadata": {},
   "outputs": [
    {
     "data": {
      "text/plain": [
       "[<Thread(Thread-5, initial)>,\n",
       " <Thread(Thread-6, initial)>,\n",
       " <Thread(Thread-7, initial)>,\n",
       " <Thread(Thread-8, initial)>,\n",
       " <Thread(Thread-9, initial)>]"
      ]
     },
     "execution_count": 3,
     "metadata": {},
     "output_type": "execute_result"
    }
   ],
   "source": [
    "thread"
   ]
  },
  {
   "cell_type": "code",
   "execution_count": 4,
   "id": "c2419a77",
   "metadata": {},
   "outputs": [
    {
     "name": "stdout",
     "output_type": "stream",
     "text": [
      "running threads Thread-5\n",
      "running threads Thread-6\n",
      "running threads Thread-7\n",
      "running threads Thread-8\n",
      "running threads Thread-9\n"
     ]
    }
   ],
   "source": [
    "for i in thread:\n",
    "    i.start()"
   ]
  },
  {
   "cell_type": "code",
   "execution_count": 6,
   "id": "9495bee7",
   "metadata": {},
   "outputs": [
    {
     "name": "stdout",
     "output_type": "stream",
     "text": [
      "active threads  6\n"
     ]
    }
   ],
   "source": [
    "print(\"active threads \" ,threading.active_count())"
   ]
  },
  {
   "cell_type": "code",
   "execution_count": 9,
   "id": "8012714c",
   "metadata": {},
   "outputs": [
    {
     "name": "stdout",
     "output_type": "stream",
     "text": [
      "<_MainThread(MainThread, started 18732)>\n"
     ]
    }
   ],
   "source": [
    "# getting the current thread \n",
    "current_thread = threading.current_thread()\n",
    "print(current_thread)"
   ]
  },
  {
   "cell_type": "code",
   "execution_count": 11,
   "id": "18fdc529",
   "metadata": {},
   "outputs": [
    {
     "name": "stdout",
     "output_type": "stream",
     "text": [
      "MainThread\n",
      "IOPub\n",
      "Heartbeat\n",
      "Control\n",
      "IPythonHistorySavingThread\n",
      "Thread-4\n"
     ]
    }
   ],
   "source": [
    "for i in threading.enumerate():\n",
    "    print(i.getName())"
   ]
  },
  {
   "cell_type": "code",
   "execution_count": 12,
   "id": "282f930f",
   "metadata": {},
   "outputs": [],
   "source": [
    "# ans to q 3 \n",
    "# the run( )method will give the thread condition on which it will work it defines the beheviour of the thread "
   ]
  },
  {
   "cell_type": "code",
   "execution_count": 13,
   "id": "3e370c06",
   "metadata": {},
   "outputs": [],
   "source": [
    "# start() this is the method used to start he executio of the thread this method need to caall only one time for each thread \n",
    "# join() this method will wait for a thread to complet its execution. when we call the method will call on the thread then the main thread will wait for the executionn of the other thered \n",
    "# isAlive() this function or method this will cheack that the menthod is currently active or not "
   ]
  },
  {
   "cell_type": "code",
   "execution_count": 49,
   "id": "7addb64c",
   "metadata": {},
   "outputs": [],
   "source": [
    "import threading\n",
    "import time\n",
    "def suare(x):\n",
    "    for i in x:\n",
    "        print(\"this is the squer of the functionn \", (i**2))\n",
    "        time.sleep(1)"
   ]
  },
  {
   "cell_type": "code",
   "execution_count": 50,
   "id": "4d8cf4ad",
   "metadata": {},
   "outputs": [],
   "source": [
    "def cube(x):\n",
    "     for i in x:\n",
    "        print(\"this is the cube of the functionn \", (i**3))\n",
    "        time.sleep(1)"
   ]
  },
  {
   "cell_type": "code",
   "execution_count": 51,
   "id": "174c4c06",
   "metadata": {},
   "outputs": [],
   "source": [
    "l = [1,2,3,4]\n",
    "thread_1 = threading.Thread(target=suare, args =(l,)) \n",
    "thread_2 = threading.Thread(target=cube, args =(l,)) "
   ]
  },
  {
   "cell_type": "code",
   "execution_count": 52,
   "id": "58f06a9e",
   "metadata": {},
   "outputs": [
    {
     "name": "stdout",
     "output_type": "stream",
     "text": [
      "this is the squer of the functionn  1\n",
      "this is the cube of the functionn  1\n",
      "this is the squer of the functionn this is the cube of the functionn  8\n",
      " 4\n",
      "this is the cube of the functionn  27\n",
      "this is the squer of the functionn  9\n",
      "this is the squer of the functionn this is the cube of the functionn  64\n",
      " 16\n"
     ]
    }
   ],
   "source": [
    "thread_1.start()\n",
    "thread_2.start()\n",
    "thread_1.join()\n",
    "thread_2.join()"
   ]
  },
  {
   "cell_type": "raw",
   "id": "ff0a2f58",
   "metadata": {},
   "source": [
    "\n",
    "ans to q 5\n",
    "Advantages of Multithreading:\n",
    "\n",
    "Concurrent Execution: Multithreading allows multiple threads to execute concurrently within a single process, enabling parallelism and efficient utilization of available resources. It can lead to improved performance and responsiveness by dividing a task into smaller subtasks that can be executed simultaneously.\n",
    "\n",
    "Responsiveness and User Experience: Multithreading is particularly useful for developing responsive user interfaces. By offloading time-consuming tasks to separate threads, the main thread (often responsible for handling the user interface) remains free to respond to user interactions and provide a smooth and interactive experience.\n",
    "\n",
    "Resource Sharing: Threads within a process share the same memory space, which facilitates efficient sharing of data and resources. This can simplify communication and coordination between different parts of a program, as threads can directly access shared variables and data structures.\n",
    "\n",
    "Simplified Programming: Multithreading can simplify the programming process by dividing complex tasks into smaller, more manageable units of work. This can enhance code modularity and maintainability, as different threads can focus on specific aspects of a task.\n",
    "\n",
    "Disadvantages of Multithreading:\n",
    "\n",
    "Complexity and Synchronization: Multithreaded programming introduces additional complexity, especially when dealing with shared resources. Careful synchronization mechanisms, such as locks or semaphores, are required to ensure proper coordination and avoid data races and inconsistent state. Improper synchronization can lead to issues like deadlocks or race conditions, making debugging and maintaining multithreaded code more challenging.\n",
    "\n",
    "Increased Memory Usage: Each thread within a process requires its own stack and resources, which can lead to increased memory consumption compared to single-threaded applications. The overhead of managing multiple threads can be significant, particularly if the system lacks sufficient resources to support a large number of threads.\n",
    "\n",
    "Debugging and Testing: Multithreaded programs can be more difficult to debug and test compared to single-threaded ones. Issues related to timing, race conditions, and thread interleaving may only occur sporadically, making them harder to reproduce and diagnose. Special attention and testing strategies are necessary to ensure thread-safety and identify potential concurrency issues.\n",
    "\n",
    "Scalability and Efficiency: Although multithreading can enhance performance on systems with multiple cores or processors, it might not always lead to proportional speedup. Certain tasks may be inherently sequential or have dependencies that limit the potential for parallelism. Additionally, excessive thread creation or contention for shared resources can introduce overhead and degrade performance, reducing the efficiency gains."
   ]
  },
  {
   "cell_type": "raw",
   "id": "4f87fc59",
   "metadata": {},
   "source": [
    "and to q 6\n",
    "\n",
    "Deadlock:\n",
    "A deadlock occurs when two or more threads are blocked forever, waiting for each other to release resources that they hold. It typically happens when there is a circular dependency between threads for acquiring exclusive access to shared resources.\n",
    "Race Condition:\n",
    "A race condition occurs when the behavior of a program depends on the relative timing of events or operations. It arises when multiple threads access shared data concurrently, and the outcome of the program depends on the interleaving of their operations."
   ]
  },
  {
   "cell_type": "code",
   "execution_count": null,
   "id": "c2e79512",
   "metadata": {},
   "outputs": [],
   "source": []
  }
 ],
 "metadata": {
  "kernelspec": {
   "display_name": "Python 3 (ipykernel)",
   "language": "python",
   "name": "python3"
  },
  "language_info": {
   "codemirror_mode": {
    "name": "ipython",
    "version": 3
   },
   "file_extension": ".py",
   "mimetype": "text/x-python",
   "name": "python",
   "nbconvert_exporter": "python",
   "pygments_lexer": "ipython3",
   "version": "3.9.13"
  }
 },
 "nbformat": 4,
 "nbformat_minor": 5
}
