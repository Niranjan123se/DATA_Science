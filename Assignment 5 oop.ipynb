{
 "cells": [
  {
   "cell_type": "raw",
   "id": "428fee7e",
   "metadata": {},
   "source": [
    "Q1. Explain Class and Object with respect to Object-Oriented Programming. Give a suitable example.\n",
    "Q2. Name the four pillars of OOPs.\n",
    "Q3. Explain why the __init__() function is used. Give a suitable example.\n",
    "Q4. Why self is used in OOPs?\n",
    "Q5. What is inheritance? Give an example for each type of inheritance."
   ]
  },
  {
   "cell_type": "code",
   "execution_count": 4,
   "id": "9fb852d1",
   "metadata": {},
   "outputs": [
    {
     "data": {
      "text/plain": [
       "'\\nclss is  a sclaton of the entity where we provide the outlines of the entity and charectoristics\\nobj is the real entity which is a instance of a class.\\neg car is a class which has the features of break enginne \\nmaruti alto 800 red is a object ibb the class car \\n\\n'"
      ]
     },
     "execution_count": 4,
     "metadata": {},
     "output_type": "execute_result"
    }
   ],
   "source": [
    "'''\n",
    "clss is  a sclaton of the entity where we provide the outlines of the entity and charectoristics\n",
    "obj is the real entity which is a instance of a class.\n",
    "eg car is a class which has the features of break enginne \n",
    "maruti alto 800 red is a object ibb the class car \n",
    "\n",
    "'''"
   ]
  },
  {
   "cell_type": "code",
   "execution_count": 5,
   "id": "0532d394",
   "metadata": {},
   "outputs": [
    {
     "data": {
      "text/plain": [
       "'\\nand to Q2 \\n4 pillers of the inheritance\\nabstraction, inheritance,polymorphism, encpasulation \\n\\n'"
      ]
     },
     "execution_count": 5,
     "metadata": {},
     "output_type": "execute_result"
    }
   ],
   "source": [
    "'''\n",
    "and to Q2 \n",
    "4 pillers of the inheritance\n",
    "abstraction, inheritance,polymorphism, encpasulation \n",
    "\n",
    "'''"
   ]
  },
  {
   "cell_type": "code",
   "execution_count": 6,
   "id": "53ec6955",
   "metadata": {},
   "outputs": [
    {
     "data": {
      "text/plain": [
       "'\\nq3 \\nthe __init__() is used for the innitialise the process of creating new instace of class and associated the atribute of its values.\\nit is a automatic menthod \\n'"
      ]
     },
     "execution_count": 6,
     "metadata": {},
     "output_type": "execute_result"
    }
   ],
   "source": [
    "'''\n",
    "q3 \n",
    "the __init__() is used for the innitialise the process of creating new instace of class and associated the atribute of its values.\n",
    "it is a automatic menthod \n",
    "'''"
   ]
  },
  {
   "cell_type": "code",
   "execution_count": 7,
   "id": "9534af32",
   "metadata": {},
   "outputs": [
    {
     "data": {
      "text/plain": [
       "'\\nq4 \\nself uiis not a resticted word in python it\\ninvokinng the methods to acess the mmethod the self word is used \\nhelps to inhertance the self allow accesss to parents class methods and variable \\nit help to access class veriables and instance \\n\\n\\n'"
      ]
     },
     "execution_count": 7,
     "metadata": {},
     "output_type": "execute_result"
    }
   ],
   "source": [
    "'''\n",
    "q4 \n",
    "self is not a resticted word in python it\n",
    "invoking the methods to acess the class veriable. self word is used to\n",
    " inhertance the self allow accesss to parents class methods and variable \n",
    "it help to access class veriables and instance \n",
    "\n",
    "\n",
    "'''"
   ]
  },
  {
   "cell_type": "code",
   "execution_count": 1,
   "id": "19d6c806",
   "metadata": {},
   "outputs": [
    {
     "data": {
      "text/plain": [
       "'\\nQ5. What is inheritance? Give an example for each type of inheritance.\\n'"
      ]
     },
     "execution_count": 1,
     "metadata": {},
     "output_type": "execute_result"
    }
   ],
   "source": [
    "'''\n",
    "Q5. What is inheritance? Give an example for each type of inheritance.\n",
    "'''"
   ]
  },
  {
   "cell_type": "code",
   "execution_count": 2,
   "id": "9ede7ec0",
   "metadata": {},
   "outputs": [
    {
     "data": {
      "text/plain": [
       "'\\ninheritance is the property throuugh  one class inherit the property of other class. thier are multiple typres of inheritanc \\n1. Single inheritance \\n2. multiple inheritance\\n3. multylevel inheritncce \\n4.hierarchical inheritance \\n5. hybride inheritance \\n\\n'"
      ]
     },
     "execution_count": 2,
     "metadata": {},
     "output_type": "execute_result"
    }
   ],
   "source": [
    "\"\"\"\n",
    "inheritance is the property throuugh  one class inherit the property of other class. thier are multiple typres of inheritanc \n",
    "1. Single inheritance \n",
    "2. multiple inheritance\n",
    "3. multylevel inheritncce \n",
    "4.hierarchical inheritance \n",
    "5. hybride inheritance \n",
    "\n",
    "\"\"\""
   ]
  },
  {
   "cell_type": "code",
   "execution_count": 9,
   "id": "2c5cede0",
   "metadata": {},
   "outputs": [
    {
     "name": "stdout",
     "output_type": "stream",
     "text": [
      "i am grandpa class\n"
     ]
    }
   ],
   "source": [
    "# single class inheritance\n",
    "class grandpa:\n",
    "    def grandpaa(self):\n",
    "        print ('i am grandpa class')\n",
    "class father(grandpa):\n",
    "    def father_class(self):\n",
    "        print (\"this is father class\")\n",
    "obj = father()# we have created an object in to the father class and call the function of grandpaa class \n",
    "obj.grandpaa()"
   ]
  },
  {
   "cell_type": "code",
   "execution_count": null,
   "id": "6f7ba548",
   "metadata": {},
   "outputs": [],
   "source": [
    "# multiple inheritane "
   ]
  },
  {
   "cell_type": "code",
   "execution_count": 26,
   "id": "6a7b328f",
   "metadata": {},
   "outputs": [],
   "source": [
    "class grandpa:\n",
    "    def grandpaa(self):\n",
    "        print ('i am grandpa class')\n",
    "class father(grandpa):\n",
    "    def father_class(self):\n",
    "        print (\"this is father class\")\n",
    "class school:\n",
    "    def school(self):\n",
    "        print(\"this is a school class \")\n",
    "class son(father, school):\n",
    "    def son_school():\n",
    "        print(\"this is in to the schols\")\n",
    "obj = son()\n",
    "obj.father_class()\n",
    "obj.school() # this will innherite the school classs "
   ]
  },
  {
   "cell_type": "code",
   "execution_count": 31,
   "id": "c096b077",
   "metadata": {},
   "outputs": [],
   "source": [
    "#  multilevel inheritance "
   ]
  },
  {
   "cell_type": "code",
   "execution_count": 33,
   "id": "611d556c",
   "metadata": {},
   "outputs": [
    {
     "name": "stdout",
     "output_type": "stream",
     "text": [
      "i am grandpa class\n"
     ]
    }
   ],
   "source": [
    "obj.grandpaa() #we have innherited the calss gendpa whicch is 2 genration above the son"
   ]
  },
  {
   "cell_type": "code",
   "execution_count": 34,
   "id": "04143f00",
   "metadata": {},
   "outputs": [
    {
     "ename": "SyntaxError",
     "evalue": "invalid syntax (4149432723.py, line 1)",
     "output_type": "error",
     "traceback": [
      "\u001b[1;36m  File \u001b[1;32m\"C:\\Users\\NIRANJAN\\AppData\\Local\\Temp\\ipykernel_16116\\4149432723.py\"\u001b[1;36m, line \u001b[1;32m1\u001b[0m\n\u001b[1;33m    we have innherited the calss gendpa whicch is 2 genration above the son\u001b[0m\n\u001b[1;37m       ^\u001b[0m\n\u001b[1;31mSyntaxError\u001b[0m\u001b[1;31m:\u001b[0m invalid syntax\n"
     ]
    }
   ],
   "source": [
    "# hierarchical inheritance wehen two or more classs derive the information form one class. and create a hierarchical inheritanc e "
   ]
  },
  {
   "cell_type": "code",
   "execution_count": 36,
   "id": "7c0ed63c",
   "metadata": {},
   "outputs": [],
   "source": [
    "class uncle(grandpa):\n",
    "    def uncle(self):\n",
    "        print(\"this is uncle class derived form granpa \")\n",
    "        \n",
    "obj_father = father()# when we creat the object then use the calss name and when we acess the function in the class then use the name "
   ]
  },
  {
   "cell_type": "code",
   "execution_count": 38,
   "id": "8e501d28",
   "metadata": {},
   "outputs": [],
   "source": [
    "obj_uncle = uncle()\n"
   ]
  },
  {
   "cell_type": "code",
   "execution_count": 41,
   "id": "aa6b1da6",
   "metadata": {},
   "outputs": [
    {
     "name": "stdout",
     "output_type": "stream",
     "text": [
      "i am grandpa class\n",
      "i am grandpa class\n"
     ]
    }
   ],
   "source": [
    "obj_father.grandpaa()\n",
    "obj_uncle.grandpaa()"
   ]
  },
  {
   "cell_type": "code",
   "execution_count": 42,
   "id": "ee0144bc",
   "metadata": {},
   "outputs": [],
   "source": [
    "# in his example we have created the hierarchical inheritance "
   ]
  },
  {
   "cell_type": "code",
   "execution_count": 45,
   "id": "3735497d",
   "metadata": {},
   "outputs": [],
   "source": [
    "# Hybrid Inheritance:  inheritance consist of multiple type of inheritance \n",
    "class property1(son, uncle):\n",
    "    def hybride_inheritance(self):\n",
    "        print(\"this is the hybride class have the property of \")\n",
    "    "
   ]
  },
  {
   "cell_type": "code",
   "execution_count": null,
   "id": "48c00196",
   "metadata": {},
   "outputs": [],
   "source": []
  }
 ],
 "metadata": {
  "kernelspec": {
   "display_name": "Python 3 (ipykernel)",
   "language": "python",
   "name": "python3"
  },
  "language_info": {
   "codemirror_mode": {
    "name": "ipython",
    "version": 3
   },
   "file_extension": ".py",
   "mimetype": "text/x-python",
   "name": "python",
   "nbconvert_exporter": "python",
   "pygments_lexer": "ipython3",
   "version": "3.9.13"
  }
 },
 "nbformat": 4,
 "nbformat_minor": 5
}
