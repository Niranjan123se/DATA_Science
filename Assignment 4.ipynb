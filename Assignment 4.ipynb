{
 "cells": [
  {
   "cell_type": "markdown",
   "id": "6cc9dbc1",
   "metadata": {},
   "source": [
    "#Assignamnt 4"
   ]
  },
  {
   "cell_type": "raw",
   "id": "32d68bf2",
   "metadata": {},
   "source": [
    "Q1. Create a python program to sort the given list of tuples based on integer value using a\n",
    "lambda function.\n",
    "[('Sachin Tendulkar', 34357), ('Ricky Ponting', 27483), ('Jack Kallis', 25534), ('Virat Kohli', 24936)]\n",
    "Q2. Write a Python Program to find the squares of all the numbers in the given list of integers using\n",
    "lambda and map functions.\n",
    "[1, 2, 3, 4, 5, 6, 7, 8, 9, 10]\n",
    "Q3. Write a python program to convert the given list of integers into a tuple of strings. Use map and\n",
    "lambda functions\n",
    "Given String: [1, 2, 3, 4, 5, 6, 7, 8, 9, 10]\n",
    "Expected output: ('1', '2', '3', '4', '5', '6', '7', '8', '9', '10')\n",
    "Q4. Write a python program using reduce function to compute the product of a list containing numbers\n",
    "from 1 to 25.\n",
    "Q5. Write a python program to filter the numbers in a given list that are divisible by 2 and 3 using the\n",
    "filter function.\n",
    "[2, 3, 6, 9, 27, 60, 90, 120, 55, 46]\n",
    "Q6. Write a python program to find palindromes in the given list of strings using lambda and filter\n",
    "function.\n",
    "['python', 'php', 'aba', 'radar', 'level']\n",
    "Note: Create your assignment in Jupyter notebook and upload it to GitHub & share that GitHub repository\n",
    "link through your dashboard."
   ]
  },
  {
   "cell_type": "code",
   "execution_count": null,
   "id": "d7a376a2",
   "metadata": {},
   "outputs": [],
   "source": [
    "'''\n",
    "Q1. Create a python program to sort the given list of tuples based on integer value using a\n",
    "lambda function.\n",
    "[('Sachin Tendulkar', 34357), ('Ricky Ponting', 27483), ('Jack Kallis', 25534), ('Virat Kohli', 24936)]\n",
    "'''"
   ]
  },
  {
   "cell_type": "code",
   "execution_count": 41,
   "id": "b03daf3c",
   "metadata": {},
   "outputs": [
    {
     "name": "stdout",
     "output_type": "stream",
     "text": [
      "('Virat Kohli', 24936)\n",
      "('Jack Kallis', 25534)\n",
      "('Ricky Ponting', 27483)\n",
      "('Sachin Tendulkar', 34357)\n"
     ]
    }
   ],
   "source": [
    "l = [('Sachin Tendulkar', 34357), ('Ricky Ponting', 27483), ('Jack Kallis', 25534), ('Virat Kohli', 24936)]\n",
    "sortedl = sorted(l, key = lambda x:x[1])\n",
    "for i in sortedl:\n",
    "    print(i)\n"
   ]
  },
  {
   "cell_type": "code",
   "execution_count": null,
   "id": "08f4f9ce",
   "metadata": {},
   "outputs": [],
   "source": [
    "\n",
    "'''Q2. Write a Python Program to find the squares of all the numbers in the given list of integers using\n",
    "lambda and map functions.\n",
    "[1, 2, 3, 4, 5, 6, 7, 8, 9, 10]\n",
    "1. byusing the  lambda funnction \n",
    "'''"
   ]
  },
  {
   "cell_type": "code",
   "execution_count": 28,
   "id": "de0ef5cc",
   "metadata": {},
   "outputs": [
    {
     "data": {
      "text/plain": [
       "[1, 4, 9, 16, 25, 36, 49, 64, 81, 100]"
      ]
     },
     "execution_count": 28,
     "metadata": {},
     "output_type": "execute_result"
    }
   ],
   "source": [
    "j = lambda x:[i**2 for i in x]\n",
    "l =[1, 2, 3, 4, 5, 6, 7, 8, 9, 10]\n",
    "j(l)"
   ]
  },
  {
   "cell_type": "code",
   "execution_count": 32,
   "id": "00e46d2b",
   "metadata": {},
   "outputs": [
    {
     "name": "stdout",
     "output_type": "stream",
     "text": [
      "[1, 4, 9, 16, 25, 36, 49, 64, 81, 100]\n"
     ]
    }
   ],
   "source": [
    "# this is by map function\n",
    "\n",
    "def sq(l):\n",
    "    return l**2\n",
    "l =[1, 2, 3, 4, 5, 6, 7, 8, 9, 10]\n",
    "k = map(sq,l)\n",
    "print(list(k))\n",
    "                   "
   ]
  },
  {
   "cell_type": "code",
   "execution_count": 30,
   "id": "efc99e05",
   "metadata": {},
   "outputs": [],
   "source": [
    "'''\n",
    "Q3. Write a python program to convert the given list of integers into a tuple of strings. Use map and\n",
    "lambda functions\n",
    "Given String: [1, 2, 3, 4, 5, 6, 7, 8, 9, 10]\n",
    "Expected output: ('1', '2', '3', '4', '5', '6', '7', '8', '9', '10')\n",
    "'''"
   ]
  },
  {
   "cell_type": "code",
   "execution_count": 42,
   "id": "546ddfd4",
   "metadata": {},
   "outputs": [],
   "source": [
    "Given_String : [1, 2, 3, 4, 5, 6, 7, 8, 9, 10]"
   ]
  },
  {
   "cell_type": "code",
   "execution_count": 43,
   "id": "e55322c3",
   "metadata": {},
   "outputs": [
    {
     "name": "stdout",
     "output_type": "stream",
     "text": [
      "('1', '2', '3', '4', '5', '6', '7', '8', '9', '10')\n"
     ]
    }
   ],
   "source": [
    "# def tp_of_list(l):\n",
    "#     converted_tup = tuple(str(l))\n",
    "#     print(converted_tup)\n",
    "#     return l\n",
    "\n",
    "def tp_of_list(l):\n",
    "    converted_tuple = tuple(str(x) for x in l)\n",
    "    return converted_tuple\n",
    "\n",
    "given_list = [1, 2, 3, 4, 5, 6, 7, 8, 9, 10]\n",
    "converted_tuple = tp_of_list(given_list)\n",
    "print(converted_tuple)\n"
   ]
  },
  {
   "cell_type": "code",
   "execution_count": 46,
   "id": "48075a69",
   "metadata": {},
   "outputs": [],
   "source": [
    "Given_String = [1, 2, 3, 4, 5, 6, 7, 8, 9, 10]\n",
    "jep = map(tp_of_list,Given_String)"
   ]
  },
  {
   "cell_type": "code",
   "execution_count": 41,
   "id": "0422bb38",
   "metadata": {},
   "outputs": [
    {
     "name": "stdout",
     "output_type": "stream",
     "text": [
      "('1',)\n",
      "('2',)\n",
      "('3',)\n",
      "('4',)\n",
      "('5',)\n",
      "('6',)\n",
      "('7',)\n",
      "('8',)\n",
      "('9',)\n",
      "('1', '0')\n"
     ]
    },
    {
     "data": {
      "text/plain": [
       "[1, 2, 3, 4, 5, 6, 7, 8, 9, 10]"
      ]
     },
     "execution_count": 41,
     "metadata": {},
     "output_type": "execute_result"
    }
   ],
   "source": [
    "list(jep)"
   ]
  },
  {
   "cell_type": "code",
   "execution_count": 48,
   "id": "f02d8fa8",
   "metadata": {},
   "outputs": [
    {
     "name": "stdout",
     "output_type": "stream",
     "text": [
      "('1', '2', '3', '4', '5', '6', '7', '8', '9', '10')\n"
     ]
    }
   ],
   "source": [
    "lamb = tuple(map(lambda x:str(x),Given_String))\n",
    "print(lamb)"
   ]
  },
  {
   "cell_type": "code",
   "execution_count": 49,
   "id": "8d445841",
   "metadata": {},
   "outputs": [],
   "source": [
    "# Q4. Write a python program using reduce function to compute the product of a list containing numbers\n",
    "# from 1 to 25.\n"
   ]
  },
  {
   "cell_type": "code",
   "execution_count": 18,
   "id": "55a45b01",
   "metadata": {},
   "outputs": [],
   "source": [
    "data =[x for x in range(26) if x >=1]"
   ]
  },
  {
   "cell_type": "code",
   "execution_count": 19,
   "id": "b4177745",
   "metadata": {},
   "outputs": [
    {
     "data": {
      "text/plain": [
       "[1,\n",
       " 2,\n",
       " 3,\n",
       " 4,\n",
       " 5,\n",
       " 6,\n",
       " 7,\n",
       " 8,\n",
       " 9,\n",
       " 10,\n",
       " 11,\n",
       " 12,\n",
       " 13,\n",
       " 14,\n",
       " 15,\n",
       " 16,\n",
       " 17,\n",
       " 18,\n",
       " 19,\n",
       " 20,\n",
       " 21,\n",
       " 22,\n",
       " 23,\n",
       " 24,\n",
       " 25]"
      ]
     },
     "execution_count": 19,
     "metadata": {},
     "output_type": "execute_result"
    }
   ],
   "source": [
    "data"
   ]
  },
  {
   "cell_type": "code",
   "execution_count": 20,
   "id": "d722e4b1",
   "metadata": {},
   "outputs": [],
   "source": [
    "import functools\n",
    "from functools import reduce\n",
    "\n",
    "x = reduce(lambda x,y:x*y,data)"
   ]
  },
  {
   "cell_type": "code",
   "execution_count": 21,
   "id": "08c968d0",
   "metadata": {},
   "outputs": [
    {
     "data": {
      "text/plain": [
       "15511210043330985984000000"
      ]
     },
     "execution_count": 21,
     "metadata": {},
     "output_type": "execute_result"
    }
   ],
   "source": [
    "x"
   ]
  },
  {
   "cell_type": "code",
   "execution_count": 28,
   "id": "192a83e6",
   "metadata": {},
   "outputs": [],
   "source": [
    "# Q5. Write a python program to filter the numbers in a given list that are divisible by 2 and 3 using the\n",
    "# filter function.\n",
    "list_ = [2, 3, 6, 9, 27, 60, 90, 120, 55, 46]\n",
    "ans = filter(lambda x:x %2==0 and x%3==0, list_)"
   ]
  },
  {
   "cell_type": "code",
   "execution_count": 30,
   "id": "2c3bdecf",
   "metadata": {},
   "outputs": [
    {
     "name": "stdout",
     "output_type": "stream",
     "text": [
      "[6, 60, 90, 120]\n"
     ]
    }
   ],
   "source": [
    "print (list(ans))"
   ]
  },
  {
   "cell_type": "code",
   "execution_count": 32,
   "id": "a9e157f7",
   "metadata": {},
   "outputs": [],
   "source": [
    "# Q6. Write a python program to find palindromes in the given list of strings using lambda and filter\n",
    "# function.\n",
    "tr_ = ['python', 'php', 'aba', 'radar', 'level']\n",
    "pall_ = filter(lambda x:x[0] == x[-1],tr_)"
   ]
  },
  {
   "cell_type": "code",
   "execution_count": 33,
   "id": "3375677c",
   "metadata": {},
   "outputs": [
    {
     "name": "stdout",
     "output_type": "stream",
     "text": [
      "['php', 'aba', 'radar', 'level']\n"
     ]
    }
   ],
   "source": [
    "print(list(pall_))"
   ]
  },
  {
   "cell_type": "code",
   "execution_count": null,
   "id": "e823a7a4",
   "metadata": {},
   "outputs": [],
   "source": []
  }
 ],
 "metadata": {
  "kernelspec": {
   "display_name": "Python 3 (ipykernel)",
   "language": "python",
   "name": "python3"
  },
  "language_info": {
   "codemirror_mode": {
    "name": "ipython",
    "version": 3
   },
   "file_extension": ".py",
   "mimetype": "text/x-python",
   "name": "python",
   "nbconvert_exporter": "python",
   "pygments_lexer": "ipython3",
   "version": "3.9.13"
  }
 },
 "nbformat": 4,
 "nbformat_minor": 5
}
